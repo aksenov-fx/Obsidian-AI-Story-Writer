{
 "cells": [
  {
   "cell_type": "markdown",
   "metadata": {},
   "source": [
    "#### Config"
   ]
  },
  {
   "cell_type": "code",
   "execution_count": 1,
   "metadata": {},
   "outputs": [],
   "source": [
    "# Tested with Python 3.12\n",
    "\n",
    "from _includes import Chat, ChatHistory, config, models, vars\n",
    "\n",
    "# File settings\n",
    "config.history_path=\"story.md\"\n",
    "config.separator='----'\n",
    "\n",
    "# Print conversation history in cell outputs\n",
    "config.print_messages=True \n",
    "\n",
    "# Reasoning settings\n",
    "    # Note: old reasoning will be removed automatically from the request - it does not have to be removed from the file\n",
    "    # Note: different inference providers output reasoning differently, which may result in <think> tags missing in the output\n",
    "    # Note: some providers do not allow to define reasoning. These providers can be excluded in openrouter web ui settings.\n",
    "\n",
    "config.write_reasoning = True # Write reasoning to md file\n",
    "config.print_reasoning = False # Print reasoning in cell outputs\n",
    "config.reasoning_header = '### Reasoning'"
   ]
  },
  {
   "cell_type": "code",
   "execution_count": 2,
   "metadata": {},
   "outputs": [],
   "source": [
    "config.first_prompt = f'''\n",
    "**Story summary:**\n",
    "This is a story about a Red Hood\n",
    "\n",
    "**Characters:**\n",
    "Red Hood - a little girl\n",
    "Wolf - a big bad wolf\n",
    "\n",
    "**Guidelines**\n",
    "{vars.guidelines}\n",
    "'''"
   ]
  },
  {
   "cell_type": "markdown",
   "metadata": {},
   "source": [
    "#### Functions"
   ]
  },
  {
   "cell_type": "code",
   "execution_count": null,
   "metadata": {},
   "outputs": [],
   "source": [
    "# Write a scene - Deepseek R1\n",
    "Chat.write_scene(models['Deepseek R1'])"
   ]
  },
  {
   "cell_type": "code",
   "execution_count": null,
   "metadata": {},
   "outputs": [],
   "source": [
    "# Write a scene - Qwen 72b\n",
    "Chat.write_scene(models['Qwen 72b'])"
   ]
  },
  {
   "cell_type": "code",
   "execution_count": null,
   "metadata": {},
   "outputs": [],
   "source": [
    "# Custom prompt - will not have a pre-prompt and post-prompt instructions\n",
    "config.user_prompt = '''\n",
    "Offer several options for story continuation in a form of story cards\n",
    "'''\n",
    "Chat.custom_prompt(models['Deepseek R1'])"
   ]
  },
  {
   "cell_type": "code",
   "execution_count": null,
   "metadata": {},
   "outputs": [],
   "source": [
    "# Rewrite a part of the story according to guidelines in the user_prompt\n",
    "# The story is devided into parts by config.separator\n",
    "# Part text and technical instructions are appended to user_prompt automatically - do not paste it manually\n",
    "\n",
    "config.user_prompt = f'''\n",
    "Change story tense from third person to first person\n",
    "For instance: \"Red Hood stood\" -> \"I stood\"\n",
    "'''\n",
    "\n",
    "config.print_output = True\n",
    "Chat.rewrite(models['Deepseek V3'], part=3 )"
   ]
  },
  {
   "cell_type": "code",
   "execution_count": null,
   "metadata": {},
   "outputs": [],
   "source": [
    "# Remove last response from md file\n",
    "ChatHistory.remove_last_response()"
   ]
  },
  {
   "cell_type": "code",
   "execution_count": 5,
   "metadata": {},
   "outputs": [],
   "source": [
    "# Insert text to md file\n",
    "text = '### Part '\n",
    "ChatHistory.insert(text)"
   ]
  },
  {
   "cell_type": "code",
   "execution_count": null,
   "metadata": {},
   "outputs": [],
   "source": [
    "# Create a window with function buttons (optional)\n",
    "from _includes.chat_ui import Chat_UI\n",
    "Chat_UI.start()\n",
    "config.print_messages = False"
   ]
  },
  {
   "cell_type": "markdown",
   "metadata": {},
   "source": [
    "#### Act 1"
   ]
  },
  {
   "cell_type": "code",
   "execution_count": null,
   "metadata": {},
   "outputs": [],
   "source": [
    "config.user_prompt = '''\n",
    "Mother gives Little Red Riding Hood a basket of food.\n",
    "Mother tells Little Red Riding Hood to take the basket to her grandmother.\n",
    "Little Red Riding Hood walks through the forest.\n",
    "'''\n",
    "\n",
    "Chat.write_scene(models['Deepseek R1'])"
   ]
  },
  {
   "cell_type": "code",
   "execution_count": null,
   "metadata": {},
   "outputs": [],
   "source": [
    "config.user_prompt = '''\n",
    "A wolf approaches Little Red Riding Hood and asks where she is going.\n",
    "Little Red Riding Hood tells the wolf she is visiting her grandmother.\n",
    "The wolf suggests she pick flowers for her grandmother.\n",
    "'''\n",
    "\n",
    "Chat.write_scene(models['Deepseek V3'])"
   ]
  },
  {
   "cell_type": "code",
   "execution_count": null,
   "metadata": {},
   "outputs": [],
   "source": [
    "config.user_prompt = '''\n",
    "\n",
    "'''\n",
    "Chat.write_scene(models['Deepseek R1'])"
   ]
  }
 ],
 "metadata": {
  "kernelspec": {
   "display_name": "Python 3",
   "language": "python",
   "name": "python3"
  },
  "language_info": {
   "codemirror_mode": {
    "name": "ipython",
    "version": 3
   },
   "file_extension": ".py",
   "mimetype": "text/x-python",
   "name": "python",
   "nbconvert_exporter": "python",
   "pygments_lexer": "ipython3",
   "version": "3.12.2"
  }
 },
 "nbformat": 4,
 "nbformat_minor": 2
}
