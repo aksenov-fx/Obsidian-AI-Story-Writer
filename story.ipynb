{
 "cells": [
  {
   "cell_type": "markdown",
   "metadata": {},
   "source": [
    "#### Config"
   ]
  },
  {
   "cell_type": "code",
   "execution_count": 1,
   "metadata": {},
   "outputs": [],
   "source": [
    "# Tested with Python 3.12.2\n",
    "\n",
    "from story_generator import ChatConfig, ChatHistory, chat\n",
    "import prompt_vars\n",
    "import endpoints\n",
    "\n",
    "# Configure chat parameters\n",
    "config = ChatConfig(\n",
    "\tsystem_prompt=None,\n",
    "    first_prompt=None,\n",
    "\tuser_preprompt=prompt_vars.user_preprompt, #Text that will preceed each user_prompt\n",
    "    user_postprompt=prompt_vars.user_postprompt, #Text that will be appended to each user_prompt\n",
    "    user_prompt=None,\n",
    "    assistant_response=None,\n",
    "\ttemperature=0.8,\n",
    "\n",
    "    # max_tokens for both input and output\n",
    "    # If input exceeds max_tokens, the first paragraphs will be excluded form input until input matches max_tokens\n",
    "\tmax_tokens=100000, \n",
    "\n",
    "    history_path=\"story.md\",\n",
    "    separator='----',\n",
    "    print_messages=True, # Print conversation history in cell outputs\n",
    "    client_type=\"openai\", # use openai client or openrouter http\n",
    "\n",
    "    # Output model reasoning to md file\n",
    "    # Note: old reasoning has to be removed from md file manually before doing the next prompt\n",
    "    # Note: different inference providers output reasoning differently, which may result in <think> tags missing in the output\n",
    "    # Note: some providers do not allow to define reasoning. These providers can be excluded in openrouter web ui settings\n",
    "    include_reasoning = True \n",
    ")\n",
    "\n",
    "endpoint = endpoints.endpoint\n",
    "chat_history = ChatHistory(config)\n",
    "model = 'deepseek/deepseek-r1:free'"
   ]
  },
  {
   "cell_type": "code",
   "execution_count": 2,
   "metadata": {},
   "outputs": [],
   "source": [
    "config.first_prompt = f'''\n",
    "**Story summary:**\n",
    "This is a story about a red hood\n",
    "\n",
    "**Characters:**\n",
    "Red Hood - a little girl\n",
    "Wolf - big bad wolf\n",
    "\n",
    "**Guidelines**\n",
    "{prompt_vars.guidelines}\n",
    "'''"
   ]
  },
  {
   "cell_type": "markdown",
   "metadata": {},
   "source": [
    "#### Functions"
   ]
  },
  {
   "cell_type": "code",
   "execution_count": null,
   "metadata": {},
   "outputs": [],
   "source": [
    "# This will start a new assistant response or continue the existing response\n",
    "chat(config, endpoint, model)"
   ]
  },
  {
   "cell_type": "code",
   "execution_count": 5,
   "metadata": {},
   "outputs": [],
   "source": [
    "# Remove last response (text followed by the last separator)\n",
    "chat_history.remove_last_response()"
   ]
  },
  {
   "cell_type": "code",
   "execution_count": 4,
   "metadata": {},
   "outputs": [],
   "source": [
    "# Insert assistant_response into md file\n",
    "chat_history.insert(config.assistant_response)"
   ]
  },
  {
   "cell_type": "code",
   "execution_count": 6,
   "metadata": {},
   "outputs": [],
   "source": [
    "# Reset assistant_response\n",
    "config.assistant_response=None"
   ]
  },
  {
   "cell_type": "markdown",
   "metadata": {},
   "source": [
    "#### Act 1"
   ]
  },
  {
   "cell_type": "code",
   "execution_count": 3,
   "metadata": {},
   "outputs": [],
   "source": [
    "# This will define the beginning of the assistant response, unless the md file already has a response\n",
    "# If the file is empty or there is no text after a separator, the file is considered not having a response\n",
    "\n",
    "# The file is considered to have a response if: \n",
    "# 1. It has some content and does not have a separator\n",
    "# 2. It has a separator and some text after the separator\n",
    "\n",
    "# If the provider API works correctly, the provider will continue the assistant response instead of starting a new response\n",
    "\n",
    "config.assistant_response='''\n",
    "<think>\n",
    "Okay, I need to write a story based on the given summary and guidelines. Let me start by understanding the requirements. The story is about Little Red Riding Hood, with her and the Wolf as characters. The guidelines emphasize verbose writing, classic literary style, avoiding clichés, and including sensory details, dialogues, and smooth transitions. \n",
    "\n",
    "The user wants the story to start with specific events: the mother giving the basket, instructing her to take it to grandmother, and the forest walk. I should expand these scenes with rich descriptions. \n",
    "\n",
    "First, the mother’s character. To avoid clichés, maybe make her more complex. Instead of just a caring mother, perhaps she has a reason for sending Red Hood alone. Maybe she’s preoccupied or there’s an underlying tension. The basket could be described with sensory details—smells of bread, texture of the cloth, etc. \n",
    "\n",
    "When Red Hood walks through the forest, I should elaborate on the environment. Use metaphors for the trees, the light, sounds. Maybe the forest is alive in a way that's slightly unsettling. Include her internal thoughts, her feelings about the journey. How does she interact with the surroundings? Maybe she's not just naive but has a curiosity or wariness. \n",
    "\n",
    "Dialogues should feel natural. The mother’s dialogue needs to be more than just instructions. Maybe she gives advice that foreshadows danger. Red Hood’s responses or internal monologue can reveal her character.\n",
    "\n",
    "Need to maintain a high literary standard. Use sophisticated language, rich metaphors, avoid simplistic terms. Think of classic literature like Angela Carter’s transformations or more lyrical prose. \n",
    "\n",
    "Smooth transitions between scenes: from the cottage to the forest, maybe a shift in atmosphere. Describe the transition from the safety of home to the wild forest. Use the journey to build suspense. \n",
    "\n",
    "Include sensations: the weight of the basket, the crunch of leaves underfoot, the scent of pine, the chill of the air. Emotional states: Red’s mix of independence and apprehension. \n",
    "\n",
    "Avoid sentimental terms. Instead of saying she felt responsible, show her determination through actions. \n",
    "\n",
    "Potential structure: Start with the mother in a dim cottage, handing over the basket with specific items. Red’s hesitation or eagerness. The journey with detailed forest descriptions. Introduction of Wolf observing her, his predatory thoughts. Build up to their meeting, dialogue, the climax at grandmother’s house. \n",
    "\n",
    "Make sure each scene flows into the next. Maybe use the forest’s changing environment to mirror Red’s inner journey. Use symbols, like the red hood as a symbol of vulnerability or defiance. \n",
    "\n",
    "Also, think about the ending—stay true to the original or subvert it? The user didn’t specify, so perhaps leave it open but within the classic framework, adding a twist in the tone or outcome. \n",
    "\n",
    "Now, draft each part with these elements in mind, ensuring verbosity and literary quality without being overly verbose. Check for sensory details, metaphors, and smooth transitions. Avoid any modern slang or phrases. Maintain a timeless feel. Let’s start writing.\n",
    "</think>\n",
    "\n",
    "The \n",
    "'''"
   ]
  },
  {
   "cell_type": "code",
   "execution_count": null,
   "metadata": {},
   "outputs": [],
   "source": [
    "config.first_prompt = f'''\n",
    "{config.first_prompt}\n",
    "\n",
    "Start the story with the following events:\n",
    "Mother gives Little Red Riding Hood a basket of food.\n",
    "Mother tells Little Red Riding Hood to take the basket to her grandmother.\n",
    "Little Red Riding Hood walks through the forest.\n",
    "{config.user_postprompt}\n",
    "'''\n",
    "\n",
    "chat(config, endpoint, model)\n",
    "config.assistant_response=None"
   ]
  },
  {
   "cell_type": "markdown",
   "metadata": {},
   "source": [
    "#### Act 2"
   ]
  },
  {
   "cell_type": "code",
   "execution_count": null,
   "metadata": {},
   "outputs": [],
   "source": [
    "config.user_prompt = '''\n",
    "A wolf approaches Little Red Riding Hood and asks where she is going.\n",
    "Little Red Riding Hood tells the wolf she is visiting her grandmother.\n",
    "The wolf suggests she pick flowers for her grandmother.\n",
    "Little Red Riding Hood stops to pick flowers.\n",
    "'''\n",
    "\n",
    "chat(config, endpoint, model)"
   ]
  }
 ],
 "metadata": {
  "kernelspec": {
   "display_name": "Python 3",
   "language": "python",
   "name": "python3"
  },
  "language_info": {
   "codemirror_mode": {
    "name": "ipython",
    "version": 3
   },
   "file_extension": ".py",
   "mimetype": "text/x-python",
   "name": "python",
   "nbconvert_exporter": "python",
   "pygments_lexer": "ipython3",
   "version": "3.12.2"
  }
 },
 "nbformat": 4,
 "nbformat_minor": 2
}
